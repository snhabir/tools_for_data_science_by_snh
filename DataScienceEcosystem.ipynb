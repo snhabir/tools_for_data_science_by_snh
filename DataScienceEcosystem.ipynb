{
 "cells": [
  {
   "cell_type": "markdown",
   "id": "f6cb8241-670f-479a-9716-63ab859d786d",
   "metadata": {},
   "source": [
    "<h1>Data Science Tools and Ecosystem</h1>"
   ]
  },
  {
   "cell_type": "markdown",
   "id": "f728d3f8-1948-4ad4-8964-79db88265cfa",
   "metadata": {},
   "source": [
    "In this notebook, Data Science Tools and Ecosystem are summarized."
   ]
  },
  {
   "cell_type": "markdown",
   "id": "680ea551-1553-49c4-a0e3-6ffff55eb593",
   "metadata": {},
   "source": [
    "<p>Some of the popular languages that Data Scientists use are:</p>\n",
    "<ol>\n",
    "  <li>Python</li>\n",
    "  <li>R</li>\n",
    "  <li>SQL</li>\n",
    "  <li>Julia</li>\n",
    "</ol>"
   ]
  },
  {
   "cell_type": "markdown",
   "id": "71b9434d-b433-435b-9afc-9c4fb3e87fcb",
   "metadata": {},
   "source": [
    "<p>Some of the commonly used libraries used by Data Scientists include:</p>\n",
    "<ol>\n",
    "  <li>Numpy</li>\n",
    "  <li>Pandas</li>\n",
    "  <li>SciPy</li>\n",
    "  <li>PyTorch</li>\n",
    "</ol>"
   ]
  },
  {
   "cell_type": "markdown",
   "id": "2a024819-b033-4141-8ddf-a8271f0fa7b9",
   "metadata": {},
   "source": [
    "<style>\n",
    "table {\n",
    "  text-align: center;\n",
    "  margin-left: 0;\n",
    "}\n",
    "</style>\n",
    "<table>\n",
    "  <tr>\n",
    "    <th>Data Science Tools</th>\n",
    "  </tr>\n",
    "  <tr>\n",
    "    <td>Jupyter Notebook</td>\n",
    "  </tr>\n",
    "  <tr>\n",
    "    <td>RStudio</td>\n",
    "  </tr>\n",
    "  <tr>\n",
    "    <td>VS Code (Visual Studio Code)</td>\n",
    "  </tr>\n",
    "</table>"
   ]
  },
  {
   "cell_type": "markdown",
   "id": "be846adb-ca19-40b8-99c4-dab7afaed6cd",
   "metadata": {},
   "source": [
    "### Below are a few examples of evaluating arithmetic expressions in Python\n",
    "\n",
    "```python\n",
    "# Addition\n",
    "result = 5 + 3\n",
    "print(\"Addition:\", result)\n",
    "\n",
    "# Subtraction\n",
    "result = 10 - 7\n",
    "print(\"Subtraction:\", result)\n",
    "\n",
    "# Multiplication\n",
    "result = 4 * 6\n",
    "print(\"Multiplication:\", result)\n",
    "\n",
    "# Division\n",
    "result = 12 / 2\n",
    "print(\"Division:\", result)\n",
    "\n",
    "# Exponentiation\n",
    "result = 2 ** 3\n",
    "print(\"Exponentiation:\", result)\n",
    "\n",
    "# Modulus (remainder)\n",
    "result = 15 % 4\n",
    "print(\"Modulus:\", result)"
   ]
  },
  {
   "cell_type": "code",
   "execution_count": 1,
   "id": "6f8bd8dd-d3c8-4b5c-bdba-6848a4a99997",
   "metadata": {},
   "outputs": [
    {
     "name": "stdout",
     "output_type": "stream",
     "text": [
      "Result: 17\n"
     ]
    }
   ],
   "source": [
    "# This is a simple arithmetic expression to multiply then add integers.\n",
    "result = (3 * 4) + 5\n",
    "print(\"Result:\", result)"
   ]
  },
  {
   "cell_type": "code",
   "execution_count": 2,
   "id": "88d3cb10-087c-4259-94f8-c59f8a78c0f2",
   "metadata": {},
   "outputs": [
    {
     "name": "stdout",
     "output_type": "stream",
     "text": [
      "Hours: 3.3333333333333335\n"
     ]
    }
   ],
   "source": [
    "# This will convert 200 minutes to hours by dividing by 60.\n",
    "result = 200 / 60\n",
    "print(\"Hours:\", result)"
   ]
  },
  {
   "cell_type": "markdown",
   "id": "88ba30b9-e7e5-40dc-a195-90ae7d73e0fb",
   "metadata": {},
   "source": [
    "**Objectives:**\n",
    "\n",
    "* Learn basic arithmetic operations in Python\n",
    "* Convert units (e.g., minutes to hours) using Python expressions\n",
    "* Understand the order of operations in Python\n",
    "* Practice creating and running code cells in Jupyter Notebook\n",
    "* Apply Python for simple data calculations"
   ]
  },
  {
   "cell_type": "markdown",
   "id": "305c4ef7-6025-436e-bc2b-9338a76d3d9f",
   "metadata": {},
   "source": [
    "## Author\n",
    "\n",
    "Syed Nazmul Hasan"
   ]
  },
  {
   "cell_type": "code",
   "execution_count": null,
   "id": "d28cfe2c-bd79-447e-a10d-6e3481000570",
   "metadata": {},
   "outputs": [],
   "source": []
  }
 ],
 "metadata": {
  "kernelspec": {
   "display_name": "Python 3 (ipykernel)",
   "language": "python",
   "name": "python3"
  },
  "language_info": {
   "codemirror_mode": {
    "name": "ipython",
    "version": 3
   },
   "file_extension": ".py",
   "mimetype": "text/x-python",
   "name": "python",
   "nbconvert_exporter": "python",
   "pygments_lexer": "ipython3",
   "version": "3.12.2"
  }
 },
 "nbformat": 4,
 "nbformat_minor": 5
}
